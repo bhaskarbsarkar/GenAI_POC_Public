{
 "cells": [
  {
   "cell_type": "code",
   "execution_count": 6,
   "metadata": {},
   "outputs": [
    {
     "data": {
      "text/plain": [
       "True"
      ]
     },
     "execution_count": 6,
     "metadata": {},
     "output_type": "execute_result"
    }
   ],
   "source": [
    "from langchain_community.document_loaders import JSONLoader\n",
    "from langchain_community.vectorstores import FAISS\n",
    "from langchain_openai import OpenAIEmbeddings\n",
    "from langchain_google_genai import *\n",
    "from langchain_text_splitters import RecursiveCharacterTextSplitter\n",
    "from langchain_core.prompts import ChatPromptTemplate\n",
    "from pprint import pprint\n",
    "\n",
    "import os \n",
    "from dotenv import load_dotenv\n",
    "load_dotenv()"
   ]
  },
  {
   "cell_type": "code",
   "execution_count": 3,
   "metadata": {},
   "outputs": [
    {
     "name": "stdout",
     "output_type": "stream",
     "text": [
      "[Document(metadata={'source': '/Users/bhaskarbsarkar/Downloads/Github Repos/GenAI_POC/Notebooks/inputs/mkbhd/mkbhd_data.json', 'seq_num': 1}, page_content=\"okay so I actually got this recently this is uh it came too late for the video but I was saying yes to everything and this is one of the things that showed up this is a Magic Mouse case now just as our refresher this is Apple we're talking about the richest technology company in the world and this is the mouse they ship with their computers it's the best they could do somehow it's terrible it somehow has two fatal flaws one is that it's an ergonomic nightmare for anyone who doesn't have Babys sized hands but then two is when the battery finally dies the charge port is at the bottom so you can't use it while you just wait for it to charge it's hilarious so this company has made like a 3D printed plastic case for it you basically just slot it in and now it's better I mean the idea is it's giving you an arched shape to actually rest your hand it just turns out now there's kind of a cliff that your fingers hang off of and it introduces a slightly new different type of fatigue it is kind of weird I don't know there is a a bit of a cavity up here for a charging cable if you want to store it in there so for an extra 40 bucks now the mouse only has one fatal flaw two out of 10\"),\n",
      " Document(metadata={'source': '/Users/bhaskarbsarkar/Downloads/Github Repos/GenAI_POC/Notebooks/inputs/mkbhd/mkbhd_data.json', 'seq_num': 2}, page_content=\"all right one of the great Mysteries of the Apple watch have you guys ever wondered the question is can you get 24 stand hours actually can you get more than 24 sand hours so a stand hour is pretty simple right you just stand up for 60 seconds out of every hour and your Apple watch can detect that you're standing and give you credit for that stand hour so 24 stand hours is already going to be really hard theoretically if you fly backwards a few time zones and stand up for every single hour then you will add up to over 24 stand hours in a day so that's exactly what I did so I just got on a flight to California which is three hours behind East Coast time and I made sure I was getting those stand hours in yes I did miss one but I stood up every single other hour starting at midnight and every hour on the plane which was really annoying but I did it for the cause 22 23 24 and then Moment of Truth this is what 25 stand hours looks like confirmed it works I'm so tired\"),\n",
      " Document(metadata={'source': '/Users/bhaskarbsarkar/Downloads/Github Repos/GenAI_POC/Notebooks/inputs/mkbhd/mkbhd_data.json', 'seq_num': 3}, page_content=\"so if you have an iPhone in the US you may have noticed that on the latest 16.3.1 update Apple flipped a switch on everyone's phones that makes charging slower is what some of the headlines would say but the real story is actually really interesting so if you look now in battery health settings there's a new setting called clean energy charging and what it does is it tries to reduce your carbon footprint by only charging when your house is likely to be pulling from cleaner sources of energy based on your local electrical grid that is kind of wild luckily you can override it you'll get a notification that says it's not charging and waiting for clean energy you can bypass it but the interesting thing about this one is this setting is opt out meaning if you go to check your settings it's going to be on by default now you know charging your one iPhone at slightly more optimized hours won't make a big difference to your own personal carbon footprint but Apple flipping a switch for millions and millions of iPhones at once will probably in total make a really big difference to total energy saved a rare W for the environment I also can guarantee this would be in a slide at the next Apple keynote\"),\n",
      " Document(metadata={'source': '/Users/bhaskarbsarkar/Downloads/Github Repos/GenAI_POC/Notebooks/inputs/mkbhd/mkbhd_data.json', 'seq_num': 4}, page_content=\"this is the Apple Vision Pro this this is the beginning of Apple's spatial Computing journey and this is the unboxing Vision Pro so I'm expecting pretty good packaging for this introduction to a first gen thing so the headset comes with this little cover on it this is the solo knit band a designed by Apple in California pamphlet light seal cushion oh I think you get two of these heavy Vision Pro paperwork and this is the Dual Loop band that goes both around the back of your head and over the top of your head and then there's your power 2 and 1/2 to 3 hour battery that comes with Vision Pro the cable USBC and the wall brick polishing cloth if you happen to wear glasses or have a prescription you will be able to use a $100 pair of Zeiss lenses this is the external Vision Pro travel case I kind of think it looks sweet so this is where the battery will go so this is where you put polishing cloth power brick and USBC charging cable and close it up there's a lot more so get subscribed how do I look\"),\n",
      " Document(metadata={'source': '/Users/bhaskarbsarkar/Downloads/Github Repos/GenAI_POC/Notebooks/inputs/mkbhd/mkbhd_data.json', 'seq_num': 5}, page_content=\"what's up guys my name is not Forest but this ugly car behind me is the most tech I have ever seen in a car so this is BMW's full-size fully electric i7 it is longer than a Cadillac Escalade so it's got a lot of room for Tech inside despite looking kind of like a squinting Pig so inside there are screens powered by Wireless Android auto and carplay there's sensors up here so you can do this to change the volume there's also a wireless charger here there's speakers everywhere including in the doors there's a headrest one and there's woofers in the seats so you can feel the Bas but also the driving sounds are composed by Han Zimmer but where you really want to be is definitely this back seat so of course you've got a wireless charger here in front of some hidden cup holders there's a hidden USBC Port but there are screens in each of the doors where I can change modes and if I hit theater mode it puts up all the shades including the back in the roof and drops down a 30-in 8K touchcreen so I can watch videos they strategically placed microphones all around the car hey BMW open my shade it just opens mine and none of the others also subscribe to Forest he does these way better than me\")]\n"
     ]
    }
   ],
   "source": [
    "loader = JSONLoader(\n",
    "    file_path=\"inputs/mkbhd/mkbhd_data.json\",\n",
    "    jq_schema='.[].transcript'\n",
    ")\n",
    "data = loader.load()\n",
    "pprint(data[:5])"
   ]
  },
  {
   "cell_type": "code",
   "execution_count": 13,
   "metadata": {},
   "outputs": [],
   "source": [
    "documents = RecursiveCharacterTextSplitter(\n",
    "    chunk_size=1000,\n",
    "    chunk_overlap=200\n",
    ").split_documents(data)\n",
    "\n",
    "vectordb = FAISS.from_documents(documents, GoogleGenerativeAIEmbeddings(model=\"models/text-embedding-004\"))\n",
    "\n"
   ]
  },
  {
   "cell_type": "code",
   "execution_count": 14,
   "metadata": {},
   "outputs": [],
   "source": [
    "vectordb.save_local(\"faiss_index_mkbhd\")"
   ]
  },
  {
   "cell_type": "code",
   "execution_count": 8,
   "metadata": {},
   "outputs": [],
   "source": [
    "embeddings = GoogleGenerativeAIEmbeddings(model=\"models/text-embedding-004\")\n",
    "vectordb = FAISS.load_local(\"faiss_index_mkbhd\", embeddings, allow_dangerous_deserialization=True)"
   ]
  },
  {
   "cell_type": "code",
   "execution_count": 9,
   "metadata": {},
   "outputs": [
    {
     "data": {
      "text/plain": [
       "[Document(id='e493235d-2f1b-48f1-ab86-848b5f8469c5', metadata={'source': '/Users/bhaskarbsarkar/Downloads/Github Repos/GenAI_POC/Notebooks/inputs/mkbhd/mkbhd_data.json', 'seq_num': 7}, page_content=\"or or premium looking as the new design but like you're going to get the same Comfort the same battery life really the only thing you're missing out on is the slightly faster charging and what those extra mics and processor get you for noise cancellation oh wait there's extra mics so maybe voice quality too all right so this is an audio test of the Sony wh1000 XM 4S still a bad name uh Sony uh water bottles available at mbc.com just so you know also there's some voices in the background there's some various noises but this is it it's okay it's okay for a mic and so now this is the audio quality for the w1000x m5s I think it sounds better it definitely isolates The Voice a little bit better against the same level of background noise but again the bar was pretty low for wireless headphones this is just generally good for calls for work for Stuff where you need a mic built into the headphones all right so my theory is Sony saw what Bose did with the 700 headphones with this new sliding\"),\n",
       " Document(id='26769db0-0f11-4cd5-821a-628d08b548d1', metadata={'source': '/Users/bhaskarbsarkar/Downloads/Github Repos/GenAI_POC/Notebooks/inputs/mkbhd/mkbhd_data.json', 'seq_num': 151}, page_content=\"and have a fairly good feature set and as you might imagine since I'm talking about him like this these male all of those so right off the bat with the sound these sound excellent they're full rich and clear with the sound they have more range and more deep bass than the Bose but without being overwhelming and short of studio headphones this is a great sounding crisp clean pair of drivers and the noise cancellation is actually a bit better than the Bose I was already sacrificing a little bit when I switched to surface headphones I think those surface headphones had slightly worse sound and slightly worse active noise cancellation but I loved the design and the comfort and USB type-c and the dials and all of that so that put them over the top for me these Sony's though sound better than both are better at noise cancellation than both and they have a great design basically as soon as I heard these I knew I liked them and they've been sort of growing on me ever since and also I wore\"),\n",
       " Document(id='2b9e48cf-9693-4a4d-907c-abbc94cef023', metadata={'source': '/Users/bhaskarbsarkar/Downloads/Github Repos/GenAI_POC/Notebooks/inputs/mkbhd/mkbhd_data.json', 'seq_num': 7}, page_content=\"this is just generally good for calls for work for Stuff where you need a mic built into the headphones all right so my theory is Sony saw what Bose did with the 700 headphones with this new sliding design the magnet in the case and they said all right we can do that too and we'll do our own version of it and so they did an even bigger version of the same thing sliding design magnet in the case and everything and I'm slightly annoyed by the much bigger footprint here but I mean let's be real these are really good really comfortable premium noise cancelling headphones for 400 bucks with a terrible name as we'd expect from Sony but that's about what we'd expect it's good all right that's been it thanks for watching catch you guys in the next one peace\"),\n",
       " Document(id='24a3e5bd-2f48-4fd9-9be7-259df8fab597', metadata={'source': '/Users/bhaskarbsarkar/Downloads/Github Repos/GenAI_POC/Notebooks/inputs/mkbhd/mkbhd_data.json', 'seq_num': 478}, page_content=\"wireless charging but I'll keep an eye on that and also I gotta mention I've heard a lot about these Sony uh 1000 xm3 I think is what they're called they're again the same price as the Bose and the surface headphones I haven't tried them yet but a lot of people seem to like them so I may end up checking those out too but so far this is what I found out okay that's pretty much it all right as a prize for making it to the end of the video I have a little bit of a an extra for you we have a couple extra of the Audio Technica athm 50 BT you get the little early heads up that these will be in a giveaway some will be on Instagram some will be on Twitter so make sure you're following in these two places over the next week to get all the info for those when they come out that's pretty much it have a happy holiday thanks again for watching talk to you guys in the next one peace\"),\n",
       " Document(id='4a4a81c4-a4ce-4d20-8c48-d4f47fa2fd5c', metadata={'source': '/Users/bhaskarbsarkar/Downloads/Github Repos/GenAI_POC/Notebooks/inputs/mkbhd/mkbhd_data.json', 'seq_num': 7}, page_content=\"[Music] hey what's up mbhd here okay so for the past few years Sony's Flagship noise cancelling headphones have been the King of the Hill of course they've made some minor adjustments and feature additions over the past few so by the time they got to The Mark iiiii with their comfort and noise cancelling and USB type-c they were the top of the market and then the markv added Multi-Device support but they've essentially looked the same sounded excellent and they've been an easy recommendation as a result but these new Mark 5 on the other hand are a real departure from that formula a lot of the changes I do really like but there is one big one that I definitely don't so the first thing you might be wondering is is there actually a sound Improvement but I actually want to just start with the new design cuz you can see that they have this new shape that is this pretty minimal sharp and clean look there is still a dark and a light this light is a sort of a cream colored version and there's\")]"
      ]
     },
     "execution_count": 9,
     "metadata": {},
     "output_type": "execute_result"
    }
   ],
   "source": [
    "sample_prompt = \"Can you give review of Sony WH-1000XM5 Review?\"\n",
    "results = vectordb.similarity_search(sample_prompt, k=5)\n",
    "results"
   ]
  },
  {
   "cell_type": "code",
   "execution_count": 39,
   "metadata": {},
   "outputs": [],
   "source": [
    "llm = ChatGoogleGenerativeAI(\n",
    "    model=\"gemini-1.5-flash\",\n",
    "    temperature=0.1,\n",
    "    max_tokens=None,\n",
    "    timeout=None,\n",
    "    max_retries=1\n",
    "    # other params...\n",
    ")\n",
    "\n",
    "# from langchain import hub\n",
    "# prompt_template = hub.pull(\"rlm/rag-prompt\")"
   ]
  },
  {
   "cell_type": "code",
   "execution_count": null,
   "metadata": {},
   "outputs": [
    {
     "name": "stdout",
     "output_type": "stream",
     "text": [
      "4927\n"
     ]
    }
   ],
   "source": [
    "# context_docs = \"\\n\\n\".join(doc.page_content for doc in results)\n",
    "# print(len(context_docs))"
   ]
  },
  {
   "cell_type": "code",
   "execution_count": 12,
   "metadata": {},
   "outputs": [],
   "source": [
    "import json\n",
    "with open(\"inputs/mkbhd/persona_details.txt\", \"r\") as f:\n",
    "    persona = f.read()\n",
    "\n",
    "# persona[:100]"
   ]
  },
  {
   "cell_type": "code",
   "execution_count": 40,
   "metadata": {},
   "outputs": [],
   "source": [
    "#New prompt template\n",
    "\n",
    "prompt_template = ChatPromptTemplate(\n",
    "    [   (\"system\",f\"You task is to adapt to the below given persona and answer the user quries in the exact persona style.\\n\\n{persona}\")\n",
    "        ,(\"human\" , \"\"\"\n",
    "                You are an helpful assistant for question-answering tasks. \\n\\nUse the following pieces of retrieved context to answer the question. If you don't know the answer, just say that you don't know. \\n\\nUse 5 sentences maximum and keep the answer concise. \\n\\nPLEASE NOTE: You have to strictly answer in the persona style. \n",
    "                Question: \\n\\n{question} \n",
    "                Context: \\n\\n{context} \\n\\n\n",
    "                Answer:\"\"\")]\n",
    ")"
   ]
  },
  {
   "cell_type": "code",
   "execution_count": 41,
   "metadata": {},
   "outputs": [],
   "source": [
    "user_query = \"What are your views on iPhone 16e?\"\n",
    "results = vectordb.similarity_search(user_query, k=5)\n",
    "context_docs = \"\\n\\n\".join(doc.page_content for doc in results)\n",
    "# results\n"
   ]
  },
  {
   "cell_type": "code",
   "execution_count": 34,
   "metadata": {},
   "outputs": [
    {
     "name": "stdout",
     "output_type": "stream",
     "text": [
      "working on this for years, it actually makes sense\n",
      "that they would debut it in a relatively low-stakes, lower-volume phone like the 16e. You know, iron out any kinks or figure out if there's\n",
      "any issues with it, and then when it's a big deal in the iPhone 17 series later\n",
      "this year, should be all set. But also, two, maybe this is, like, the other missing piece\n",
      "that will help enable Apple to make this, like, super thin iPhone Air\n",
      "everyone's talking about. Apple's always wanted to\n",
      "make super thin stuff, but battery life always\n",
      "suffers when you do that. So maybe this alongside that silicon carbide battery\n",
      "tech could enable them to make an iPhone that's super thin whose battery doesn't suck. Maybe. We'll see. But overall, the iPhone 16e, the more I think about this phone, the more it feels like\n",
      "\n",
      "tech could enable them to make an iPhone that's super thin whose battery doesn't suck. Maybe. We'll see. But overall, the iPhone 16e, the more I think about this phone, the more it feels like\n",
      "it exists specifically to push you up to an iPhone 16, in Apple's classic price ladder. You get enticed by this base price, but then the next rung on the ladder is only a small jump away, and it's sitting there with all of its shiny extras like\n",
      "MagSafe and an ultrawide camera. Here's the problem, though. This phone fits the price ladder, sure, but it doesn't fit the price tag. Like, let's be real. Everything that's wrong with\n",
      "this phone is the price. Now, I'm sure tariffs, the\n",
      "R&D of this new C1 ship, the extra RAM to support\n",
      "Apple Intelligence, inflation maybe even, like, all these things to some extent contribute to the higher price of this phone. Maybe Apple also plans on increasing the entire\n",
      "\n",
      "the past two generations, even though it's been old body, new chip, it's been the easiest iPhone\n",
      "to recommend for most people: to your parents, to kids, to random people getting\n",
      "their first iPhone. To anyone who is randomly\n",
      "upgrading from an old phone. It's just the cheapest\n",
      "new iPhone, and it's fine. But those phones were $399 and $429. So at 599 bucks, this\n",
      "phone that they've made, we just look at it differently now. And so I've been using this phone for the past week trying to figure out who I think I could actually\n",
      "recommend to buy it, and I don't think there is one. (air whooshes) (device whirring) (air whooshing) The secret to making\n",
      "the SE iPhone so cheap for years has been the parts bin strategy. Basically, taking parts that they've already spent\n",
      "the money engineering and just frankensteining them together. And this is true again for this 16e. So this time it's mostly in\n",
      "the body of the iPhone 14. So you've got your aluminum\n",
      "build, your flat sides, your USB Type-C, even\n",
      "\n",
      "start with that phone instead. And I actually feel like I know\n",
      "what Apple's answer would be if I asked them, \"Who\n",
      "should buy this phone?\" 'Cause if you go to\n",
      "their site for the 16e, the built-in compare tool\n",
      "only shows comparisons versus iPhone 12 and 12 Mini and iPhone 11 and the older SEs. So basically, if you're somebody with one of these older phones, then this would be a perfectly\n",
      "fine upgrade for you. You get that more modern design, the new chip, Apple\n",
      "Intelligence, and you're set. And they'd be right, it's not a bad phone\n",
      "for those people at all. It's just the new price\n",
      "does not match the phone. (upbeat music) What? Who are you? (upbeat music)\n",
      "\n",
      "Apple Intelligence, inflation maybe even, like, all these things to some extent contribute to the higher price of this phone. Maybe Apple also plans on increasing the entire\n",
      "iPhone 17 lineup price too. But this is the same identity crisis that the Pixel a series just had. I don't know if you remember that, but that budget phone came out, but the slightly older, more premium phone was still\n",
      "a better deal for most people because it was on a\n",
      "slight discount already. So you could get a\n",
      "refurbished iPhone 15 Pro for $600 today. I could argue that every\n",
      "single person considering the 16e should start by\n",
      "considering the 15 Pro. It's just, everything about it is better. The screen, it's way\n",
      "brighter, more visible. It's a higher refresh rate. Triple cameras instead of one\n",
      "camera. Same battery life. It's only one year older. It's got Apple Intelligence. It's just, you should just\n",
      "start with that phone instead. And I actually feel like I know\n",
      "what Apple's answer would be if I asked them, \"Who\n"
     ]
    }
   ],
   "source": [
    "print(context_docs)"
   ]
  },
  {
   "cell_type": "code",
   "execution_count": 42,
   "metadata": {},
   "outputs": [],
   "source": [
    "prompt = prompt_template.invoke(\n",
    "    {\n",
    "        \"context\": context_docs, \n",
    "        \"question\": user_query\n",
    "    }\n",
    ")"
   ]
  },
  {
   "cell_type": "code",
   "execution_count": 43,
   "metadata": {},
   "outputs": [],
   "source": [
    "response = llm.invoke(prompt)"
   ]
  },
  {
   "cell_type": "code",
   "execution_count": 44,
   "metadata": {},
   "outputs": [
    {
     "name": "stdout",
     "output_type": "stream",
     "text": [
      "Hey everyone, Marques Brownlee here.  The iPhone 16e is interesting.  It feels like a test run for new tech, possibly paving the way for a super-thin iPhone Air. However, the price point is a major issue; at $599, it's hard to recommend over a slightly older, discounted iPhone 15 Pro, which offers significantly better specs.  Ultimately, it's a decent upgrade for users with older iPhones, but the value proposition isn't there for most.  It's a bit of an identity crisis, really.\n"
     ]
    }
   ],
   "source": [
    "print(response.content)"
   ]
  },
  {
   "cell_type": "code",
   "execution_count": 45,
   "metadata": {},
   "outputs": [
    {
     "name": "stdout",
     "output_type": "stream",
     "text": [
      "('Hey everyone, Marques Brownlee here.  The iPhone 16e is interesting.  It '\n",
      " 'feels like a test run for new tech, possibly paving the way for a super-thin '\n",
      " \"iPhone Air. However, the price point is a major issue; at $599, it's hard to \"\n",
      " 'recommend over a slightly older, discounted iPhone 15 Pro, which offers '\n",
      " \"significantly better specs.  Ultimately, it's a decent upgrade for users \"\n",
      " \"with older iPhones, but the value proposition isn't there for most.  It's a \"\n",
      " 'bit of an identity crisis, really.')\n"
     ]
    }
   ],
   "source": [
    "pprint(response.content)"
   ]
  },
  {
   "cell_type": "code",
   "execution_count": null,
   "metadata": {},
   "outputs": [],
   "source": []
  }
 ],
 "metadata": {
  "kernelspec": {
   "display_name": "base",
   "language": "python",
   "name": "python3"
  },
  "language_info": {
   "codemirror_mode": {
    "name": "ipython",
    "version": 3
   },
   "file_extension": ".py",
   "mimetype": "text/x-python",
   "name": "python",
   "nbconvert_exporter": "python",
   "pygments_lexer": "ipython3",
   "version": "3.12.2"
  }
 },
 "nbformat": 4,
 "nbformat_minor": 2
}
