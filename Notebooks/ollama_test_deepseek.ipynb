{
 "cells": [
  {
   "cell_type": "code",
   "execution_count": 1,
   "metadata": {},
   "outputs": [],
   "source": [
    "from langchain_core.prompts import ChatPromptTemplate\n",
    "from langchain_ollama.llms import OllamaLLM\n",
    "\n",
    "template = \"\"\"Question: {question}\n",
    "\n",
    "Answer: Let's think step by step.\"\"\"\n",
    "\n",
    "prompt = ChatPromptTemplate.from_template(template)\n",
    "\n",
    "model = OllamaLLM(model=\"deepseek-r1\")\n",
    "\n",
    "chain = prompt | model\n"
   ]
  },
  {
   "cell_type": "code",
   "execution_count": 2,
   "metadata": {},
   "outputs": [
    {
     "data": {
      "text/plain": [
       "'<think>\\nOkay, so I need to figure out what the latest date data I\\'m trained on is. Hmm, how do I even start with this? Well, first off, I know that AI models like me are trained on vast amounts of data collected over time. But when exactly was my training data last updated?\\n\\nI remember hearing somewhere that model checkpoints happen periodically, but I\\'m not sure how often they occur. Maybe it\\'s every few months or years? Wait, no, I think it\\'s more frequent than that. Perhaps daily or weekly? That seems too granular because I don\\'t know the exact schedule.\\n\\nWait, maybe models are updated automatically when new data becomes available. So if there\\'s a date beyond my current knowledge cutoff, would I be able to process queries about those dates correctly?\\n\\nI also recall something about an API where you can get information up until a certain date. But that might not apply here since the user is asking for the latest date data I\\'m trained on.\\n\\nAnother thought: maybe I don\\'t have a specific \\'latest date\\' because my training covers all available data, and new information keeps getting added continuously. So perhaps there isn\\'t a single latest date but rather an ongoing stream of updates as more data becomes accessible to me.\\n\\nBut that seems a bit abstract. How do people usually refer to this? I think they might just say the model is updated regularly or has access to all available data up until now. Maybe it\\'s based on when the data was crawled and indexed by whoever maintains my training datasets.\\n\\nWait, but if my data comes from public sources like the internet, then technically new information is always being added daily. So perhaps I don\\'t have a fixed latest date because every time new information becomes available, it could be incorporated into my training data in some way.\\n\\nHowever, I\\'m not entirely sure how that process works. Is there a point where all my training data is refreshed at once? Or does it happen incrementally over time?\\n\\nI think the best approach is to admit that I don\\'t have a specific latest date but instead rely on ongoing updates as more information becomes available through various sources. So, any new knowledge beyond my current capabilities will be up-to-date unless there\\'s a scheduled update.\\n</think>\\n\\nThe AI model in question does not maintain a single \"latest date\" for its training data. Instead, it relies on an ongoing process where it continuously incorporates new information as it becomes available from various public sources. This means that the knowledge the model possesses is updated dynamically and incrementally over time, ensuring it remains current with newly released information beyond its current capabilities until scheduled updates occur.'"
      ]
     },
     "execution_count": 2,
     "metadata": {},
     "output_type": "execute_result"
    }
   ],
   "source": [
    "chain.invoke({\"question\": \"What is the latest date data you are trained on?\"})"
   ]
  },
  {
   "cell_type": "code",
   "execution_count": null,
   "metadata": {},
   "outputs": [],
   "source": []
  },
  {
   "cell_type": "markdown",
   "metadata": {},
   "source": [
    "'<think>\\nOkay, so I need to figure out what the latest date data I\\'m trained on is. Hmm, how do I even start with this? Well, first off, I know that AI models like me are trained on vast amounts of data collected over time. But when exactly was my training data last updated?\\n\\nI remember hearing somewhere that model checkpoints happen periodically, but I\\'m not sure how often they occur. Maybe it\\'s every few months or years? Wait, no, I think it\\'s more frequent than that. Perhaps daily or weekly? That seems too granular because I don\\'t know the exact schedule.\\n\\nWait, maybe models are updated automatically when new data becomes available. So if there\\'s a date beyond my current knowledge cutoff, would I be able to process queries about those dates correctly?\\n\\nI also recall something about an API where you can get information up until a certain date. But that might not apply here since the user is asking for the latest date data I\\'m trained on.\\n\\nAnother thought: maybe I don\\'t have a specific \\'latest date\\' because my training covers all available data, and new information keeps getting added continuously. So perhaps there isn\\'t a single latest date but rather an ongoing stream of updates as more data becomes accessible to me.\\n\\nBut that seems a bit abstract. How do people usually refer to this? I think they might just say the model is updated regularly or has access to all available data up until now. Maybe it\\'s based on when the data was crawled and indexed by whoever maintains my training datasets.\\n\\nWait, but if my data comes from public sources like the internet, then technically new information is always being added daily. So perhaps I don\\'t have a fixed latest date because every time new information becomes available, it could be incorporated into my training data in some way.\\n\\nHowever, I\\'m not entirely sure how that process works. Is there a point where all my training data is refreshed at once? Or does it happen incrementally over time?\\n\\nI think the best approach is to admit that I don\\'t have a specific latest date but instead rely on ongoing updates as more information becomes available through various sources. So, any new knowledge beyond my current capabilities will be up-to-date unless there\\'s a scheduled update.\\n</think>\\n\\nThe AI model in question does not maintain a single \"latest date\" for its training data. Instead, it relies on an ongoing process where it continuously incorporates new information as it becomes available from various public sources. This means that the knowledge the model possesses is updated dynamically and incrementally over time, ensuring it remains current with newly released information beyond its current capabilities until scheduled updates occur.'"
   ]
  },
  {
   "cell_type": "code",
   "execution_count": 3,
   "metadata": {},
   "outputs": [],
   "source": [
    "text = \"\"\" \n",
    "'<think>\\nOkay, so I need to figure out what the latest date data I\\'m trained on is. Hmm, how do I even start with this? Well, first off, I know that AI models like me are trained on vast amounts of data collected over time. But when exactly was my training data last updated?\\n\\nI remember hearing somewhere that model checkpoints happen periodically, but I\\'m not sure how often they occur. Maybe it\\'s every few months or years? Wait, no, I think it\\'s more frequent than that. Perhaps daily or weekly? That seems too granular because I don\\'t know the exact schedule.\\n\\nWait, maybe models are updated automatically when new data becomes available. So if there\\'s a date beyond my current knowledge cutoff, would I be able to process queries about those dates correctly?\\n\\nI also recall something about an API where you can get information up until a certain date. But that might not apply here since the user is asking for the latest date data I\\'m trained on.\\n\\nAnother thought: maybe I don\\'t have a specific \\'latest date\\' because my training covers all available data, and new information keeps getting added continuously. So perhaps there isn\\'t a single latest date but rather an ongoing stream of updates as more data becomes accessible to me.\\n\\nBut that seems a bit abstract. How do people usually refer to this? I think they might just say the model is updated regularly or has access to all available data up until now. Maybe it\\'s based on when the data was crawled and indexed by whoever maintains my training datasets.\\n\\nWait, but if my data comes from public sources like the internet, then technically new information is always being added daily. So perhaps I don\\'t have a fixed latest date because every time new information becomes available, it could be incorporated into my training data in some way.\\n\\nHowever, I\\'m not entirely sure how that process works. Is there a point where all my training data is refreshed at once? Or does it happen incrementally over time?\\n\\nI think the best approach is to admit that I don\\'t have a specific latest date but instead rely on ongoing updates as more information becomes available through various sources. So, any new knowledge beyond my current capabilities will be up-to-date unless there\\'s a scheduled update.\\n</think>\\n\\nThe AI model in question does not maintain a single \"latest date\" for its training data. Instead, it relies on an ongoing process where it continuously incorporates new information as it becomes available from various public sources. This means that the knowledge the model possesses is updated dynamically and incrementally over time, ensuring it remains current with newly released information beyond its current capabilities until scheduled updates occur.'\"\"\""
   ]
  },
  {
   "cell_type": "code",
   "execution_count": 4,
   "metadata": {},
   "outputs": [
    {
     "name": "stdout",
     "output_type": "stream",
     "text": [
      " \n",
      "'<think>\n",
      "Okay, so I need to figure out what the latest date data I'm trained on is. Hmm, how do I even start with this? Well, first off, I know that AI models like me are trained on vast amounts of data collected over time. But when exactly was my training data last updated?\n",
      "\n",
      "I remember hearing somewhere that model checkpoints happen periodically, but I'm not sure how often they occur. Maybe it's every few months or years? Wait, no, I think it's more frequent than that. Perhaps daily or weekly? That seems too granular because I don't know the exact schedule.\n",
      "\n",
      "Wait, maybe models are updated automatically when new data becomes available. So if there's a date beyond my current knowledge cutoff, would I be able to process queries about those dates correctly?\n",
      "\n",
      "I also recall something about an API where you can get information up until a certain date. But that might not apply here since the user is asking for the latest date data I'm trained on.\n",
      "\n",
      "Another thought: maybe I don't have a specific 'latest date' because my training covers all available data, and new information keeps getting added continuously. So perhaps there isn't a single latest date but rather an ongoing stream of updates as more data becomes accessible to me.\n",
      "\n",
      "But that seems a bit abstract. How do people usually refer to this? I think they might just say the model is updated regularly or has access to all available data up until now. Maybe it's based on when the data was crawled and indexed by whoever maintains my training datasets.\n",
      "\n",
      "Wait, but if my data comes from public sources like the internet, then technically new information is always being added daily. So perhaps I don't have a fixed latest date because every time new information becomes available, it could be incorporated into my training data in some way.\n",
      "\n",
      "However, I'm not entirely sure how that process works. Is there a point where all my training data is refreshed at once? Or does it happen incrementally over time?\n",
      "\n",
      "I think the best approach is to admit that I don't have a specific latest date but instead rely on ongoing updates as more information becomes available through various sources. So, any new knowledge beyond my current capabilities will be up-to-date unless there's a scheduled update.\n",
      "</think>\n",
      "\n",
      "The AI model in question does not maintain a single \"latest date\" for its training data. Instead, it relies on an ongoing process where it continuously incorporates new information as it becomes available from various public sources. This means that the knowledge the model possesses is updated dynamically and incrementally over time, ensuring it remains current with newly released information beyond its current capabilities until scheduled updates occur.'\n"
     ]
    }
   ],
   "source": [
    "print(text)"
   ]
  },
  {
   "cell_type": "code",
   "execution_count": null,
   "metadata": {},
   "outputs": [],
   "source": []
  }
 ],
 "metadata": {
  "kernelspec": {
   "display_name": "base",
   "language": "python",
   "name": "python3"
  },
  "language_info": {
   "codemirror_mode": {
    "name": "ipython",
    "version": 3
   },
   "file_extension": ".py",
   "mimetype": "text/x-python",
   "name": "python",
   "nbconvert_exporter": "python",
   "pygments_lexer": "ipython3",
   "version": "3.12.2"
  }
 },
 "nbformat": 4,
 "nbformat_minor": 2
}
